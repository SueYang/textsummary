{
 "cells": [
  {
   "cell_type": "code",
   "execution_count": 1,
   "metadata": {
    "collapsed": false
   },
   "outputs": [],
   "source": [
    "import tensorflow as tf\n",
    "import numpy as np\n",
    "import models\n",
    "import helpers\n",
    "import data_utils"
   ]
  },
  {
   "cell_type": "code",
   "execution_count": 2,
   "metadata": {
    "collapsed": false
   },
   "outputs": [],
   "source": [
    "metadata, idx_q, idx_a = data_utils.ourmodel.data_util.load_data()\n",
    "(trainX, trainY), (testX, testY), (validX, validY) = helpers.split_dataset(idx_q, idx_a)"
   ]
  },
  {
   "cell_type": "code",
   "execution_count": 3,
   "metadata": {
    "collapsed": true
   },
   "outputs": [],
   "source": [
    "\n",
    "# parameters \n",
    "xseq_len = trainX.shape[-1]\n",
    "yseq_len = trainY.shape[-1]\n",
    "batch_size = 16\n",
    "xvocab_size = len(metadata['idx2w'])  \n",
    "yvocab_size = xvocab_size\n",
    "emb_dim = 200\n"
   ]
  },
  {
   "cell_type": "code",
   "execution_count": 4,
   "metadata": {
    "collapsed": false
   },
   "outputs": [],
   "source": [
    "from models import seq2seq_wrapper"
   ]
  },
  {
   "cell_type": "code",
   "execution_count": 5,
   "metadata": {
    "collapsed": false
   },
   "outputs": [
    {
     "data": {
      "text/plain": [
       "(9204, 100)"
      ]
     },
     "execution_count": 5,
     "metadata": {},
     "output_type": "execute_result"
    }
   ],
   "source": [
    "trainX.shape"
   ]
  },
  {
   "cell_type": "code",
   "execution_count": 6,
   "metadata": {
    "collapsed": false
   },
   "outputs": [
    {
     "name": "stdout",
     "output_type": "stream",
     "text": [
      "<log> Building Graph <log> Building Input variables of Graph <log> Cells <log> Building Actual model <log> Building optimizer ADAM </log>"
     ]
    }
   ],
   "source": [
    "model = seq2seq_wrapper.Seq2Seq(xseq_len=xseq_len,\n",
    "                               yseq_len=yseq_len,\n",
    "                               xvocab_size=xvocab_size,\n",
    "                               yvocab_size=yvocab_size,\n",
    "                               ckpt_path='ckpt/checkpoint/',\n",
    "                               emb_dim=emb_dim,\n",
    "                               num_layers=3,\n",
    "                             epochs = 30,\n",
    "                                lr = 0.05\n",
    "                               )"
   ]
  },
  {
   "cell_type": "code",
   "execution_count": 7,
   "metadata": {
    "collapsed": false
   },
   "outputs": [],
   "source": [
    "batch_size = 20\n",
    "\n",
    "val_batch_gen = helpers.rand_batch_gen(validX, validY, 16)\n",
    "train_batch_gen = helpers.rand_batch_gen(trainX, trainY, batch_size)"
   ]
  },
  {
   "cell_type": "code",
   "execution_count": 8,
   "metadata": {
    "collapsed": false
   },
   "outputs": [
    {
     "name": "stdout",
     "output_type": "stream",
     "text": [
      "training started\n",
      "Evaluating sizeEvaluating sizeEvaluating sizeEvaluating sizeEvaluating sizeEvaluating sizeEvaluating sizeEvaluating sizeEvaluating sizeEvaluating sizeEvaluating sizeEvaluating sizeEvaluating sizeEvaluating sizeEvaluating sizeEvaluating size\n",
      "Model saved to disk at iteration #6\n",
      "val   loss : 1.254118\n",
      "Evaluating sizeEvaluating sizeEvaluating sizeEvaluating sizeEvaluating sizeEvaluating sizeEvaluating sizeEvaluating sizeEvaluating sizeEvaluating sizeEvaluating sizeEvaluating sizeEvaluating sizeEvaluating sizeEvaluating sizeEvaluating size\n",
      "Model saved to disk at iteration #12\n",
      "val   loss : 1.110757\n",
      "Evaluating sizeEvaluating sizeEvaluating sizeEvaluating sizeEvaluating sizeEvaluating sizeEvaluating sizeEvaluating sizeEvaluating sizeEvaluating sizeEvaluating sizeEvaluating sizeEvaluating sizeEvaluating sizeEvaluating sizeEvaluating size\n",
      "Model saved to disk at iteration #18\n",
      "val   loss : 0.953254\n",
      "Evaluating sizeEvaluating sizeEvaluating sizeEvaluating sizeEvaluating sizeEvaluating sizeEvaluating sizeEvaluating sizeEvaluating sizeEvaluating sizeEvaluating sizeEvaluating sizeEvaluating sizeEvaluating sizeEvaluating sizeEvaluating size\n",
      "Model saved to disk at iteration #24\n",
      "val   loss : 0.911515\n"
     ]
    }
   ],
   "source": [
    "sess = model.train(train_batch_gen, val_batch_gen)"
   ]
  },
  {
   "cell_type": "code",
   "execution_count": 9,
   "metadata": {
    "collapsed": false
   },
   "outputs": [],
   "source": [
    "\n",
    "sess = model.restore_last_session()"
   ]
  },
  {
   "cell_type": "code",
   "execution_count": 19,
   "metadata": {
    "collapsed": false
   },
   "outputs": [
    {
     "name": "stdout",
     "output_type": "stream",
     "text": [
      "(16, 30)\n"
     ]
    }
   ],
   "source": [
    "input_,output_ = val_batch_gen.next()\n",
    "output = model.predict(sess, input_)\n",
    "print(output.shape)"
   ]
  },
  {
   "cell_type": "code",
   "execution_count": 21,
   "metadata": {
    "collapsed": false
   },
   "outputs": [
    {
     "name": "stdout",
     "output_type": "stream",
     "text": [
      "Review : [Great tasting!  perfect for taking to the movie theater or enjoying a bag at home or work\n",
      "]; Summary : [Great];real summary :[Delicious\n",
      "] \n",
      "Review : [Wonderful no matter how awkward they looked! Not a big variety, but still really enjoyable.\n",
      "]; Summary : [Great];real summary :[jellybeans\n",
      "] \n",
      "Review : [My dogs LOVE these,  and they are so much easier on their GI track than greenies.\n",
      "]; Summary : [Great];real summary :[Breathalicious\n",
      "] \n",
      "Review : [Okay...YUM!  These are dairy free and fat free and lovely!  They are tasty and satisfying!\n",
      "]; Summary : [Great];real summary :[Love this!\n",
      "] \n",
      "Review : [These cookies are my favories, hands down.  Move over, Nabisco!  You'll love these!\n",
      "]; Summary : [Great];real summary :[Fabulous!\n",
      "] \n",
      "Review : [Good taste...mixes easy and has no artifical sweetners.  I been using this one for years\n",
      "]; Summary : [Great];real summary :[Great product\n",
      "] \n",
      "Review : [This tea has a good price/bag but for some reason doesn't have a great or even very strong flavor.\n",
      "]; Summary : [Great];real summary :[not great\n",
      "] \n",
      "Review : [I'm a Reese's peanut butter cup addict needing to control my diet.  This is my perfect compromise.\n",
      "]; Summary : [Great];real summary :[Yummy\n",
      "] \n",
      "Review : [great taste, great pice and the item arrived very fast.  I will without a doubt order again.\n",
      "]; Summary : [Great];real summary :[tea\n",
      "] \n",
      "Review : [I bought the cookies for my daughter who loved them and want them for Christmas!\n",
      "]; Summary : [Great];real summary :[Very good\n",
      "] \n",
      "Review : [Great to have on hand for soothing a sore throat during cold and allergy season.\n",
      "]; Summary : [Great];real summary :[convenient\n",
      "] \n",
      "Review : [These pouches are so easy and convenient. They taste great and are perfect for busy moms.\n",
      "]; Summary : [Great];real summary :[These pouches are great!\n",
      "] \n",
      "Review : [My family loves Basmati Rice and Amazon has this product at a very good price.\n",
      "]; Summary : [Great];real summary :[Excellent rice product\n",
      "] \n",
      "Review : [It's very easy to make, not a lot of 'junk' ingredients, and actually tastes good.\n",
      "]; Summary : [Great];real summary :[good \"easy/yummy\" ratio\n",
      "] \n",
      "Review : [This tea is awesome!  Everytime we run out, I try a different brand, and we always come back.\n",
      "]; Summary : [Great];real summary :[Best Peppermint Tea\n",
      "] \n",
      "Review : [this a great snack... the spicy taste is a kick. my only complaint is that this is a big salty.\n",
      "]; Summary : [Great];real summary :[yum\n",
      "] \n"
     ]
    }
   ],
   "source": [
    "\n",
    "\n",
    "for ii, oi,ot in zip(input_.T, output,output_.T):\n",
    "    q = helpers.decode(sequence=ii, lookup=metadata['idx2w'], separator=' ')\n",
    "    decoded = helpers.decode(sequence=oi, lookup=metadata['idx2w'], separator=' ').split(' ')\n",
    "    rs = helpers.decode(sequence=ot, lookup=metadata['idx2w'], separator=' ').split(' ')\n",
    "    #if decoded.count('unk') == 0:\n",
    "     #   if decoded not in replies:\n",
    "    print('Review : [{0}]; Summary : [{1}];real summary :[{2}] '.format(q, ' '.join(decoded),' '.join(rs)))\n",
    "    #print \"Real Summary %s\",(helpers.decode(sequence=ot, lookup=metadata['idx2w'], separator=' ').split(' '))\n",
    "    replies.append(decoded)"
   ]
  },
  {
   "cell_type": "code",
   "execution_count": null,
   "metadata": {
    "collapsed": true
   },
   "outputs": [],
   "source": []
  }
 ],
 "metadata": {
  "kernelspec": {
   "display_name": "Python 2",
   "language": "python",
   "name": "python2"
  },
  "language_info": {
   "codemirror_mode": {
    "name": "ipython",
    "version": 2
   },
   "file_extension": ".py",
   "mimetype": "text/x-python",
   "name": "python",
   "nbconvert_exporter": "python",
   "pygments_lexer": "ipython2",
   "version": "2.7.12"
  }
 },
 "nbformat": 4,
 "nbformat_minor": 0
}
