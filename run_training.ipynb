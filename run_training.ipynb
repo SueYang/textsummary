{
 "cells": [
  {
   "cell_type": "code",
   "execution_count": 1,
   "metadata": {
    "collapsed": false
   },
   "outputs": [],
   "source": [
    "import tensorflow as tf\n",
    "import numpy as np\n",
    "import models\n",
    "import helpers\n",
    "import data_utils"
   ]
  },
  {
   "cell_type": "code",
   "execution_count": 2,
   "metadata": {
    "collapsed": false
   },
   "outputs": [],
   "source": [
    "metadata, idx_q, idx_a = data_utils.ourmodel.data_util.load_data()\n",
    "(trainX, trainY), (testX, testY), (validX, validY) = helpers.split_dataset(idx_q, idx_a)"
   ]
  },
  {
   "cell_type": "code",
   "execution_count": 3,
   "metadata": {
    "collapsed": false
   },
   "outputs": [],
   "source": [
    "reload(data_utils.ourmodel.data_util)\n",
    "metadata = data_utils.ourmodel.data_util.load_metadata()"
   ]
  },
  {
   "cell_type": "code",
   "execution_count": 4,
   "metadata": {
    "collapsed": false
   },
   "outputs": [
    {
     "data": {
      "text/plain": [
       "174539"
      ]
     },
     "execution_count": 4,
     "metadata": {},
     "output_type": "execute_result"
    }
   ],
   "source": [
    "len(metadata['idx2w']) "
   ]
  },
  {
   "cell_type": "code",
   "execution_count": 9,
   "metadata": {
    "collapsed": false
   },
   "outputs": [
    {
     "name": "stdout",
     "output_type": "stream",
     "text": [
      "(561232, 200)\n"
     ]
    }
   ],
   "source": [
    "BATCH_SIZE = 64\n",
    "def batch():\n",
    "    X = np.load('datasets/idx_review.npy', mmap_mode='r')\n",
    "    Y =  np.load('datasets/idx_summary.npy', mmap_mode='r')\n",
    "    \n",
    "    i = np.random.randint(len(X))\n",
    "    print X.shape\n",
    "    return X[i:i+BATCH_SIZE],Y[i:i+BATCH_SIZE]\n",
    "for i in range(1):\n",
    "    \n",
    "    summary,review = batch()"
   ]
  },
  {
   "cell_type": "code",
   "execution_count": 10,
   "metadata": {
    "collapsed": false
   },
   "outputs": [
    {
     "name": "stdout",
     "output_type": "stream",
     "text": [
      "Review : [love bars sweet salty low calories dont much soy protein isolate taste good texture great definitely treat decent amount fiber recommended]; Summary : [really delicious] \n",
      "Review : [quite good 90 calories 77 ounces taste like chewy chocolate covered pretzels satisfying currently available amazon found walmart 250 per box 6]; Summary : [quite good hard find] \n",
      "Review : [ive already gone several boxes amazing little bars theyre unk perfect blend sweet unk cant believe theyre 90 calories excellent snack definitely worth buying]; Summary : [wow] \n",
      "Review : [item great watching calories need little something tide till lunch dinner sweetness salty flavor goes great together really hits spot]; Summary : [great tasting] \n",
      "Review : [things awesome price wonderful subscribe save best 2 point bar market weight watchers try bar savior love amazon]; Summary : [2 unk weight watchers] \n",
      "Review : [local grocery store introduced stopped carrying flavor go figure amazon came enough last good long theyre delicious]; Summary : [love] \n",
      "Review : [imho fiber plus best tasting snack bar 4 buck dont every variety ive trying brands r tasty chewy bit pretzel crunch smaller fiber plus bars hence less calories gave 4 stars cause small size often doesnt satisfy inner snack monster end eating 2]; Summary : [pretty good] \n",
      "Review : [got hold type foods work late man make meal nights like came individual boxes box would ate box one time sit desk plug numbers]; Summary : [wow gone] \n",
      "Review : [sometimes want snack crave something salty sometimes crave something sweet fits bill 90 calories amazon doesnt show nutritional information bar concerned point ingredients include corn syrup partially hydrogenated unk br like chocolate bars looking change pace id also like recommend delicious unk valley tart chocolate multigrain unk unk boxes pack unk got 130 calories corn syrup partially hydrogenated oil fact unlike special k ingredients pronounceable]; Summary : [salty sweet look elsewhere natural treat] \n",
      "Review : [started buying wanted little bit sweetness minimum amount calories still getting filling snack fits bill perfectly didnt realize daughter would love much dont mind letting 90 calories nutrition loves get subscribe save]; Summary : [favorite] \n",
      "Review : [indeed best tasty bar market delicious crunchy cant live without unk least one per day weight watchers 2pts definitely try]; Summary : [special k bars unk] \n",
      "Review : [ive used amazon year yet leave review unk delicious]; Summary : [yum] \n",
      "Review : [best flavor special k bars unk find unk always sold need order 10x supply unk ditch flavors one likes]; Summary : [special k chocolate pretzels] \n",
      "Review : [dont usually like cereal bars granola bars etc flavor favorite rice cereal pretzel bar masterpiece one best snack foods]; Summary : [best combination] \n",
      "Review : [called unk said box mislabeled says bar serving ive finished 3rd unk br love unk br first one tasted smoky subsequent ones wonderful im unk doesnt fireplace made curious seller stores unk br would hesitate buy might try freezing seem unk br unk br jana k]; Summary : [chocolate pretzel bars] \n",
      "Review : [yum unk br note kelloggs though introduce something good make sure continues available store purchased originally stock ever since find unk br like chocolate covered pretzels 90calorie serving highly recommend really good]; Summary : [two words] \n",
      "Review : [may best diet snack bars ever tasted feel like could serve company remove wrappers cut half look like bar cookies serve pretty platter salty chocolaty side hard eat one unlike meal replacement bars quite chewy take longer eat light well leave wanting sure good thing trying restrict calories gave five stars anyway taste good least little fiber unk br trying lose weight long time special k line low calorie drinks bars crackers become way simplify eating night go bed put tray plan eat next day unk real cooked healthy meal full vegetables protein carbs side fruit dessert tray currently includes 600 calories made special k meal replacement drinks bars protein water supplemented green tea coffee working lost eight pounds 2 months sustainable unk br long run concerned artificial ingredients processed foods read literature seems lowering weight many health benefits worth short term keeping test]; Summary : [almost good] \n",
      "Review : [looking good tasting meal replacement bar small weighing approximately 34 ounce knew purchased meant treat snack meal replacement part special ks weight loss line often mistaken meal replacement unk br good sometimes crave something salty sweet take care cravings 90 calories 2 grams unk br bottom coated delicious milk chocolate top crunch yet soft combination crispiness chocolate pretzels incredible actual meal replacement bar suggest unk advantage bars chocolate chip granola unk bars pack 2 snack treat better special k chocolately pretzel bar]; Summary : [delicious little treat] \n",
      "Review : [bars favorite special k bars chocolatey salty yum also loved 6 pack brought boxes work snacks im definitely going order way great deal]; Summary : [delicious] \n",
      "Review : [special k bars chocolatey pretzel tasty treat remember unk easy eat whole box]; Summary : [special k bars chocolatey pretzel] \n",
      "Review : [favorite special k bars 90 calories cant go wrong tastes better mm pretzel]; Summary : [love] \n",
      "Review : [ive unk flavor raspberry cheesecake flavors chocolatey pretzel flavor far best ones tried great hankering something sweet hard stop one time manage great know something sweet eat snack ruin diet]; Summary : [really really good] \n",
      "Review : [love bars perfect snack anytime good waistline problem addicting want eat time]; Summary : [great snack bars] \n",
      "Review : [unk hae warehouse long dry unk amazon make sure freshness product sell]; Summary : [stale] \n",
      "Review : [sooo good 16 bucks 6 bars got ta kidding 275 per box markets would pay]; Summary : [delish] \n",
      "Review : [originally found winco somewhere northern california winter time went back winco able find luckily able order amazon paid unk 6 isnt bad guittard makes best baking unk br color bit odd makes fun go great peppermint chocolate cookie make even good eat treat]; Summary : [love things] \n",
      "Review : [chips somewhat expensive really substitute green mint chips darn near impossible find grocery stores make minty baked goods much tastier dont worry coloring white chocolate food coloring making holiday treats christmas st unk day etc find using half bag make something munching rest bag throughout next week also great ice cream unk br kind bummer buy six bags good wont trouble finding ways use unk unk]; Summary : [worth money] \n",
      "Review : [great product boyfriend loves mint chocolate color really nice easy finding products stores]; Summary : [great] \n",
      "Review : [almonds great quality use almonds make almond milk almond flour great way save money great tasting almond milk creamier better buy teh stores]; Summary : [raw almonds] \n",
      "Review : [purchased almonds back received timely manner satisfied quality product definitely buy]; Summary : [great value excellent product] \n",
      "Review : [four pounds nuts wanted man get wanted full sack nuts mint condition recommend buying nut sack fresh delicious]; Summary : [fan nuts ya] \n",
      "Review : [almonds packaged spicy world sold simply beautiful fulfilled amazon shipped unk fullfillment services inc hard know takes credit quality dont state origin almonds definately smaller less tasty california almonds purchased previously knew probably foreign packed spicy world price less 6 dollars pound including postage u go got paid cheap almonds uncertain origin]; Summary : [raw natural almonds roasting added fat salt] \n",
      "Review : [update 4 months spam inbox buy without unsubscribe link since comes via amazon seller unk br ordered hesitantly boy glad overcame hesitation hesitant couple reviews questioned quality taste absolute unk br good almonds encountered better right level crispness even hint anything wrong fact bit fragrant way describe slight aroma chew upon almond probably seem grown different climate taste slightly different good unk br amazon prime membership either may ship everybody way got product fedex second unk br short perfect product amazing price dont hesitate unk br disclosure affiliated seller grower distributor way never heard ordered item]; Summary : [best deal town free spam] \n",
      "Review : [purchased wife salt good price enjoying guilt]; Summary : [almonds galore] \n",
      "Review : [almonds came large plastic bag twist tie top sealed way isnt necessarily bad seemed little odd reviewers complained taste didnt issue cost emerald brand walmart dont wait delivery expecting either better taste could get big box store cheaper costco bjs membership get even cheaper product fine complaints cheaper easier options available nothing special]; Summary : [nothing special] \n",
      "Review : [super fast shipment great almonds ordering company made fabulous raw crackers almond butter granola family excited use rest]; Summary : [great service great almonds] \n",
      "Review : [excellent almonds fast unk best way almonds hand save time looking good quality stores]; Summary : [fresh raw almonds] \n",
      "Review : [bring almonds us every day work supplement lunches keep us away hungry tasty snack arent highest quality almonds ever prize goes unk nut guy disappeared good also think product best bang buck unk amazon]; Summary : [best bang buck] \n",
      "Review : [almonds extremely nutritious particularly raw natural state case product loaded protein fiber vitamins minerals especially magnesium potassium selenium healthy monounsaturated unk br since purchasing many nuts bulk means cant eat fast keep part refrigerator rest freezer maintain freshness since chemical preservatives salt unk br favorite way eat combined unk sport dark unk unk unk delicious quite nutritious unk br almonds also taste good combined pretzels]; Summary : [great tasting wholesome food] \n",
      "Review : [nuts fresh tasty well worth price ordering supply runs low]; Summary : [delicious] \n",
      "Review : [break even point almonds lower buying 3pound size still best raw almonds since harvested year stay fresh friged received delicious good strongly recommend disappointed]; Summary : [cheaper pound] \n",
      "Review : [get pay unk br excited find almonds considered low price attributed larger 4lb bulk size flavor found slightly expensive nuts go cheap almost tasted unk must fresh order]; Summary : [dissapointing] \n",
      "Review : [purchase almonds month every time open fresh pack ziploc seal never closed sometimes open package zip ripped never closes love almonds packaging cheap ensure almonds stay fresh]; Summary : [cheap packaging] \n",
      "Review : [unk whole natural 4 unk buying raw almonds years far best raw almonds ive ever purchased soft nice flavor]; Summary : [best almonds ever] \n",
      "Review : [ordered unsalted almonds pound one time previously flavorful like others ones ordered previusly sweeter nutty flavor slightly chewy dry would think unk sitting shelf long time like tea leaves loose flavor time sure dont fresh ones compare]; Summary : [good others] \n",
      "Review : [great buy money almonds large whole planning order almonds plus nuts company]; Summary : [almonds great buy] \n",
      "Review : [buy eat lot almomds make almond milk almond butter usually buy almonds produce section walmart walmart almonds always fresh many times walmart doesnt produce section sell almonds soft taste fresh almond butter doesnt good flavor use unk stick walmart ordering]; Summary : [fresh] \n",
      "Review : [eat lot almonds taste stale chalky probably make almond milk use bleh buying]; Summary : [great] \n",
      "Review : [texture old almonds soft chewy crunchy bite fresh almonds suppose get pay nuts cheaper still disappointing]; Summary : [poor texture] \n",
      "Review : [item shipped securely quickly enough charge shipping blueberries fresh tasty cheaper pay store pleased transaction]; Summary : [wonderful product] \n",
      "Review : [berries arent dried advertised rather unk texture flavor somewhat sticky gummy intense sweet blueberry flavor contain high fructose corn syrup corn syrup dont mislead reviewers also contain sucralose splenda sucrose otherwise known sugar wonderful cooking baking muffins pancakes serve healthy snack conventional candy youre looking sweettooth fix rate high household theyre delicious embody everything blueberry]; Summary : [intense flavor] \n",
      "Review : [disappointed taste dried blueberries sweet sickly unnatural sweet unlike blueberries unk br looked ingredients clear unk br wild blueberries unk corn syrup theres cause unk sugar maybe okay corn syrup gone dont need much sugar dried unk natural flavor uhhh natural unk citric unk sunflower unk potassium unk br big ingredients could forgive flavor right horrible donating rest food bank hoping someone likes unk tastes gets enjoyment going different supplier dried fruit needs enjoyed cherries past im afraid try anything else company]; Summary : [unk poor ingredients] \n",
      "Review : [chili aficionados almost certainly turn noses chili still pretty good meal 150 per spent also economical meal bought less desperation monthly expenses left pretty thin ice week unk br past pretty much dismissed hormel favor campbells line chili memory unk offering bit greasy side tasted cheap pleasantly surprised product seemed compare favorably campbell offering greasy tasted fairly good canned chili real identifiable pieces meat also mildly unk chance add hot sauce preference substantially lower price recall campbells unk br suggested beginning want gourmet meal want inexpensive stopgap help stretch budget works well]; Summary : [pretty good stopgap meal] \n",
      "Review : [allergy onions cant eat canned chili onion powder actual onions find turkey variety flavorful appealing overly greasy like beef variety tends high sodium concern great quick high protein meal days know im going roller derby practice gym ill couple hours go dont get unk feeling im working word warning however cans shipped individually 3 6 cans dented upon arrival since dont care aesthetics problem far im concerned others might find disconcerting]; Summary : [love chili] \n",
      "Review : [thought right thing getting 98 fat free turkey chili stunned saw serving 1250 mg sodium thats 2500 unk entire days serving sodium one whats point buying low fat chili itll kill tons salt]; Summary : [warning high sodium content] \n",
      "Review : [wife occasionally eat cold wisconsin winter oh lazy pack lunch work dont notice major differences turkey regular versions add enough additional ingredients cheese hot sauce sour cream etc arent half bad quick easy filling cheap unk br canned chili moving]; Summary : [canned chili much else say] \n",
      "Review : [im big fan unk classic beef chili lets face without good fire melt 34 unk pretty lousy meal straight one best canned chili small flaws turkey variety doesnt fat good straight bowl stick cans pantry emergencies youll always pretty decent healthy meal power goes hardcore survivalists unk strip label drop bare unopened pot boil water serves well rice well drained pasta pleasing change try spaghetti penne]; Summary : [perfect unk item] \n",
      "Review : [chili really good happy ordered also ordered daughter loves]; Summary : [great taste] \n",
      "Review : [good alternative beef chili looking bought several packs good idea storing food emergencies expiration date 2014]; Summary : [good chili] \n",
      "Review : [chilly goodbut little pricy compaired unk good top unk recomend product buy]; Summary : [chillie] \n",
      "Review : [yup read correctly chili sweet understand turkey supposed little healthy sweetener used br chili powder added offset combined dash ground cayenne isnt unk price pretty good sure would tell somebody buy well fat free thing going]; Summary : [sweet] \n",
      "Review : [weight watcher friendly bad fast meal ring top open lid makes convenient take wherever elderly mom enjoyed well]; Summary : [hormel turkey chili beans 98 fat free] \n",
      "Review : [know health alternative regular chili though awful thick pasty like eating bread pudding sure healthy thats]; Summary : [yuck] \n",
      "Review : [sadly got mostly tea little coffee bummed would loved better coffee variety product leads believe]; Summary : [mostly tea cocoa coffee] \n"
     ]
    }
   ],
   "source": [
    "for ii, oi in zip(summary, review):\n",
    "    q = helpers.decode(sequence=ii, lookup=metadata['idx2w'], separator=' ')\n",
    "    decoded = helpers.decode(sequence=oi, lookup=metadata['idx2w'], separator=' ').split(' ')\n",
    "    print('Review : [{0}]; Summary : [{1}] '.format(q, ' '.join(decoded)))\n",
    "    #print \"Real Summary %s\",(helpers.decode(sequence=ot, lookup=metadata['idx2w'], separator=' ').split(' '))\n"
   ]
  },
  {
   "cell_type": "code",
   "execution_count": 5,
   "metadata": {
    "collapsed": false
   },
   "outputs": [],
   "source": [
    "\n",
    "# parameters \n",
    "xseq_len = trainX.shape[-1]\n",
    "yseq_len = trainY.shape[-1]\n",
    "batch_size = 16\n",
    "xvocab_size = len(metadata['idx2w'])  \n",
    "yvocab_size = xvocab_size\n",
    "emb_dim = 64\n"
   ]
  },
  {
   "cell_type": "code",
   "execution_count": null,
   "metadata": {
    "collapsed": false
   },
   "outputs": [],
   "source": [
    "trainXX = trainX[1:1000]\n",
    "trainYY = trainY[1:1000]"
   ]
  },
  {
   "cell_type": "code",
   "execution_count": null,
   "metadata": {
    "collapsed": false
   },
   "outputs": [
    {
     "name": "stdout",
     "output_type": "stream",
     "text": [
      "<log> Building Graph <log> Building Input variables of Graph <log> Cells "
     ]
    }
   ],
   "source": [
    "reload(models.seq2seq_wrapper)\n",
    "from models import seq2seq_wrapper\n",
    "model = seq2seq_wrapper.Seq2Seq(xseq_len= 50,\n",
    "                               yseq_len= 20,\n",
    "                               xvocab_size=xvocab_size,\n",
    "                               yvocab_size=yvocab_size,\n",
    "                               ckpt_path='ckpt/checkpoint/',\n",
    "                               emb_dim=emb_dim,\n",
    "                               num_layers=2,\n",
    "                             epochs = 10000,\n",
    "                                lr = 0.005,\n",
    "                                attention = True,\n",
    "                                celltype = 'GRU'\n",
    "                               )\n",
    "sess = tf.Session()\n",
    "            # init all variables\n",
    "sess.run(tf.global_variables_initializer())"
   ]
  },
  {
   "cell_type": "code",
   "execution_count": null,
   "metadata": {
    "collapsed": false
   },
   "outputs": [],
   "source": []
  },
  {
   "cell_type": "code",
   "execution_count": 10,
   "metadata": {
    "collapsed": false
   },
   "outputs": [],
   "source": [
    "batch_size = 100\n",
    "\n",
    "val_batch_gen = helpers.rand_batch_gen(trainXX, trainYY, 16)\n",
    "train_batch_gen = helpers.rand_batch_gen(trainXX, trainYY, batch_size)"
   ]
  },
  {
   "cell_type": "code",
   "execution_count": null,
   "metadata": {
    "collapsed": false
   },
   "outputs": [
    {
     "name": "stdout",
     "output_type": "stream",
     "text": [
      "training started\n",
      "\n",
      "Model saved to disk at iteration #10\n",
      "val   loss : 1.777225\n",
      "\n",
      "Model saved to disk at iteration #20\n",
      "val   loss : 0.648790\n",
      "\n",
      "Model saved to disk at iteration #30\n",
      "val   loss : 0.612422\n",
      "\n",
      "Model saved to disk at iteration #40\n",
      "val   loss : 0.405445\n",
      "\n",
      "Model saved to disk at iteration #50\n",
      "val   loss : 0.457402\n",
      "\n",
      "Model saved to disk at iteration #60\n",
      "val   loss : 0.415419\n",
      "\n",
      "Model saved to disk at iteration #70\n",
      "val   loss : 0.421635\n",
      "\n",
      "Model saved to disk at iteration #80\n",
      "val   loss : 0.446304\n",
      "\n",
      "Model saved to disk at iteration #90\n",
      "val   loss : 0.394088\n",
      "\n",
      "Model saved to disk at iteration #100\n",
      "val   loss : 0.384027\n",
      "\n",
      "Model saved to disk at iteration #110\n",
      "val   loss : 0.406275\n",
      "\n",
      "Model saved to disk at iteration #120\n",
      "val   loss : 0.339208\n",
      "\n",
      "Model saved to disk at iteration #130\n",
      "val   loss : 0.354319\n",
      "\n",
      "Model saved to disk at iteration #140\n",
      "val   loss : 0.405343\n",
      "\n",
      "Model saved to disk at iteration #150\n",
      "val   loss : 0.365870\n",
      "\n",
      "Model saved to disk at iteration #160\n",
      "val   loss : 0.404561\n",
      "\n",
      "Model saved to disk at iteration #170\n",
      "val   loss : 0.348379\n",
      "\n",
      "Model saved to disk at iteration #180\n",
      "val   loss : 0.368962\n",
      "\n",
      "Model saved to disk at iteration #190\n",
      "val   loss : 0.344479\n",
      "\n",
      "Model saved to disk at iteration #200\n",
      "val   loss : 0.328737\n",
      "\n",
      "Model saved to disk at iteration #210\n",
      "val   loss : 0.324216\n",
      "\n",
      "Model saved to disk at iteration #220\n",
      "val   loss : 0.362569\n",
      "\n",
      "Model saved to disk at iteration #230\n",
      "val   loss : 0.340767\n"
     ]
    }
   ],
   "source": [
    "sess = model.train(train_batch_gen, val_batch_gen)"
   ]
  },
  {
   "cell_type": "code",
   "execution_count": 8,
   "metadata": {
    "collapsed": false
   },
   "outputs": [],
   "source": [
    "\n",
    "sess = model.restore_last_session()"
   ]
  },
  {
   "cell_type": "code",
   "execution_count": 11,
   "metadata": {
    "collapsed": false
   },
   "outputs": [
    {
     "name": "stdout",
     "output_type": "stream",
     "text": [
      "(100, 30)\n"
     ]
    }
   ],
   "source": [
    "input_,output_ = train_batch_gen.next()\n",
    "output = model.predict(sess, input_)\n",
    "print(output.shape)"
   ]
  },
  {
   "cell_type": "code",
   "execution_count": 12,
   "metadata": {
    "collapsed": false
   },
   "outputs": [
    {
     "name": "stdout",
     "output_type": "stream",
     "text": [
      "Review : [tried chips hotel stayed loved ordered office everyone enjoyed im second order]; Summary : [great good chips];real summary :[yummy healthy snack] \n",
      "Review : [peanut lover much larger cocktail peanuts six people christmas gift list ask every year]; Summary : [great];real summary :[best] \n",
      "Review : [dog loves loves dog unk say love twice dog food one dogs favorite]; Summary : [great good chips];real summary :[dog loves dog food] \n",
      "Review : [office personally smoothest best tasting coffee buy keurig machine great price]; Summary : [great good];real summary :[best overall coffee] \n",
      "Review : [popchips good following weight watchers lost 50 pounds goal popchips salty crunchy indulgence taste good]; Summary : [great good chips];real summary :[love love love] \n",
      "Review : [second order good hot like best sample per preferences]; Summary : [great good chips];real summary :[curry paste] \n",
      "Review : [makes feeding go easy unk suck pouch 5 minutes loves]; Summary : [great good];real summary :[awesome idea] \n",
      "Review : [delicious unk outstanding price rich unk fortunes inside added unk great options relating packaging]; Summary : [great];real summary :[treat] \n",
      "Review : [laddoos turned bad days received item inside fridge turned bad]; Summary : [great good];real summary :[horrible dont buy] \n",
      "Review : [diappointed flavor texture mix usually like low carb things tried diappointed specific one]; Summary : [great good chips];real summary :[low carb angel food puffs] \n",
      "Review : [got one coconut water unk pineapple delicious least bit sweet refreshing love continue using saw dr oz recommended]; Summary : [great good chips];real summary :[one coconut water] \n",
      "Review : [healthy dog food good digestion also good small puppies dog eats required amount every feeding]; Summary : [great good chips];real summary :[healthy dog food] \n",
      "Review : [tea awesome keep stirring sits long taste great little prep time keeps going day]; Summary : [great];real summary :[great tea] \n",
      "Review : [great workout great natural electrolytes high potassium amazing drink favorite flavor tangerine 2nd]; Summary : [great great];real summary :[delicious rejuvenating] \n",
      "Review : [deal awesome arrived halloween indicated enough satisfy trick treaters love quality product much less expensive local stores candy]; Summary : [great good];real summary :[awesome deal] \n",
      "Review : [looking missing taste exactly taste one made india loved remember days back india definitely recommend]; Summary : [great good];real summary :[great taste] \n",
      "Review : [great cutting back fat resemble regular chips nothing like extremely dry hard]; Summary : [great];real summary :[hard] \n",
      "Review : [matter mess recipe mix still makes family happy sunday morning]; Summary : [great];real summary :[love] \n",
      "Review : [like bold cup good unk keurig single brewer flavor buy never dissappointing unk mahogany]; Summary : [great good chips];real summary :[bold kcups coffee] \n",
      "Review : [consider gingerbread spicy eggnog caramel apple cider spiced apple cider summer items cleaned self expense disappointed]; Summary : [best chips];real summary :[summer items] \n",
      "Review : [mother father recipient wonderful pieces chocolate heaven didnt believe deserved receiving know deserve receive]; Summary : [great good chips];real summary :[chocolate heaven] \n",
      "Review : [book eat one serving ease feel remorse wish bbq cheese flavored selections black pepper bestest yet]; Summary : [great good];real summary :[pop chips tops] \n",
      "Review : [save little money buying larger quantities opposed smaller bottles like taste agave cross unk good pies cereal frozen yogurt etc]; Summary : [great good chips];real summary :[agave nectar] \n",
      "Review : [great described used unk party use go packs honey coffee tea]; Summary : [great great];real summary :[great little treats] \n",
      "Review : [never got product complained non receipt bought store klefje lskejfewl lsfjewldf]; Summary : [great good];real summary :[never got] \n",
      "Review : [flavor awful absolutely love flavors goji cacao maca really difficult get give flavors 5 stars]; Summary : [great good chips];real summary :[goji cacao maca yuck] \n",
      "Review : [coffee inoffensive strong enough tastes use cream im sure makes difference]; Summary : [great];real summary :[cup coffee] \n",
      "Review : [best flavor ever im addicted good far best could live need anymore say]; Summary : [great chips];real summary :[amazing] \n",
      "Review : [kids loved great deal didnt feel guilty giving kids chips]; Summary : [great good];real summary :[great snack] \n",
      "Review : [best way cook roast local grocery went buisness could find product till looked please continue keep product available]; Summary : [great good chips];real summary :[best roast ever] \n",
      "Review : [old english sheepdog absolutely loved treats took longer thought would eat one could eat treat peace chewed great]; Summary : [great good];real summary :[great treats] \n",
      "Review : [absolutely scrumptuous husband love however another customer put expensive ship cost shipping tartlets]; Summary : [great good chips];real summary :[omaha apple tartlets] \n",
      "Review : [flavor lasted longer id probably die starvation lack wanting take mouth]; Summary : [great chips];real summary :[flavor gods] \n",
      "Review : [sold cafe express site thrilled unk find quick delivery great service happy know find]; Summary : [great good];real summary :[best coffee] \n",
      "Review : [along omaha prime rib great two plenty fill made toaster oven less 20 minutes]; Summary : [great good chips];real summary :[quick easy taste great] \n",
      "Review : [u tried u r missing best thing u could cook unk give 10 stars]; Summary : [great chips];real summary :[family loved] \n",
      "Review : [ordered case chips deal vita coco stellar deal size bag perfect snacking assortment chips great theres something everyone]; Summary : [great];real summary :[popchips] \n",
      "Review : [unless really really really like vinegar avoid chips called vinegar sea salt sea salt vinegar]; Summary : [great chips];real summary :[awful taste] \n",
      "Review : [thank product use time appreciate promptness price excellent thanks]; Summary : [great good];real summary :[great product] \n",
      "Review : [things darn cheesy like lot flavor youll love otherwise overdose cheddary goodness]; Summary : [great tea];real summary :[much flavor] \n",
      "Review : [variety pack popchips r sooo good flavors r delicious r way healthier regular greasy potato unk r half fat 100 calories def must buy]; Summary : [best chips];real summary :[popchips r hella good] \n",
      "Review : [chips great substitute usual high calorie ones offered keep hand aid weight loss venture]; Summary : [great great];real summary :[great product] \n",
      "Review : [good frozen lemon juice good slightly odd flavor perhaps preservative sure wish could order frozen juice]; Summary : [great good chips];real summary :[realemon juice amazon] \n",
      "Review : [bought lollipops daughters 3rd birthday super cute kids loved definitely met expectations]; Summary : [great];real summary :[loved] \n",
      "Review : [product exactly portrayed tasty yummy good received product promptly ordered 2 cases eat every package]; Summary : [great good];real summary :[great diet] \n",
      "Review : [almost identical unk great chocolate unk unk best also whip whipped sprouted almonds unk make unk yummmm]; Summary : [great];real summary :[outrageous] \n",
      "Review : [love popchips variety bag great deal especially 5 tasty low fat needed healthy alternative great price highly recommend]; Summary : [great];real summary :[excellent] \n",
      "Review : [yummy good flavor wish softer unk odd reason give heartburn never get heartburn still like flavor]; Summary : [great good];real summary :[good great] \n",
      "Review : [got order ok bit light cheddar flavoring herb taste eludes]; Summary : [great good chips];real summary :[firm quality chip] \n",
      "Review : [firm small pieces intense licorice flavor love black licorice trying different gluten free options ordering one]; Summary : [great good chips];real summary :[dense licorice flavor] \n",
      "Review : [tasted good spicy dont like spicy stay away price paid good buy]; Summary : [great];real summary :[yummy] \n",
      "Review : [great value like package size vinegary enough wont order brand great chips otherwise]; Summary : [great good chips];real summary :[salt vinegar chips] \n",
      "Review : [love pancake waffle mix hard please everyone item trick crispy light tender yummy]; Summary : [great];real summary :[yummmmmmmmmm] \n",
      "Review : [really love sugar pricewise much cheaper buy amazon compared anywhere else]; Summary : [great];real summary :[great] \n",
      "Review : [wonderful handy product im thrilled yummy ways used aunt lived ireland 7 years said used time loved]; Summary : [great good];real summary :[wonderful product] \n",
      "Review : [always feel refreshed drink coconut water pineapple gives added extra makes truly irresistible firm favorite mine nearly year]; Summary : [great];real summary :[favorite] \n",
      "Review : [popcorn brings back days microwave version treat savor taste lightly salted lily white popcorn popped heat stove burner]; Summary : [great];real summary :[small good] \n",
      "Review : [favorite bars ever combo raisons dark choc wonderful filling hard find stores im thankful subsrcibe save]; Summary : [great good];real summary :[best bar] \n",
      "Review : [chihuahua loves lil snacks sees bring yellow bus literally runs circles]; Summary : [great chips];real summary :[dog loves] \n",
      "Review : [tried found unk plus ate fish sauce fish realized kind unk br im kidding course stuff great]; Summary : [great good];real summary :[way salty] \n",
      "Review : [usually love kettle chips love salt vinegar chips way vinegary typical kettle chip crunch aggressively flavored taste]; Summary : [great];real summary :[heavy vinegar] \n",
      "Review : [love plum organic pouch got one sale baby toddler love much 3 years old always ask]; Summary : [great];real summary :[love] \n",
      "Review : [eating since 5 years old favorite chips world dont eat many]; Summary : [great];real summary :[addicting] \n",
      "Review : [sooooo deliscious bad ate em fast gained 2 pds fault]; Summary : [great];real summary :[pretzel] \n",
      "Review : [expensive pancake mix tastes processed fake less expensive bisquick local grocery store beats taste doubt yucky product]; Summary : [great good];real summary :[processed taste] \n",
      "Review : [like popped corn small taste good crisp yet tender real complaint disproportional amount hull]; Summary : [great];real summary :[good] \n",
      "Review : [sojos foods tested nutritional content formulated calcium phosphorus ratio 141 need add calcium phosphorus]; Summary : [great good];real summary :[food unbalanced] \n",
      "Review : [huge supply im still working plenty spare much effective buying one grocery store 711 every time want mint]; Summary : [great great];real summary :[mints awesome] \n",
      "Review : [heavily touted reviews decided try mix good great probably wouldnt buy]; Summary : [great good];real summary :[good great] \n",
      "Review : [great idea daughter love unk dont think difficult wash mean like toss water thats come unk absolutely recommend]; Summary : [great good];real summary :[absolutely love] \n",
      "Review : [product great priced nearly twice retails local markets dont mind paying little convenience home delivery much]; Summary : [great];real summary :[expensive] \n",
      "Review : [chips right amount crunch enjoy taste chips consistent fairly even distribution seasoning like 2oz size bags right amount chips]; Summary : [great chips];real summary :[crunchy tasty] \n",
      "Review : [works chicken fish beef pork fast easy makes taste excellent plus buying bulk 50 box stores]; Summary : [great great];real summary :[awesome stuff] \n",
      "Review : [excellent tea one best ever especially great prepare samovar]; Summary : [great good chips];real summary :[best tea ever] \n",
      "Review : [great tasting coffiee one best ive ever problem high shipping costs]; Summary : [great];real summary :[great taste] \n",
      "Review : [really like product tasted great took minutes make microwave]; Summary : [great good chips];real summary :[tasty easy make] \n",
      "Review : [sweetest smallest hulless best tasting white popcorn ever placed additional order 6 lb bag well varities carried company]; Summary : [great good chips];real summary :[best popcorn ever] \n",
      "Review : [things addicting low calories fat love wasabi flavor]; Summary : [great good chips];real summary :[best crackers ever] \n",
      "Review : [full bodied tea loss flavor even though decaffeinated comes stored heavy duty zipper plastic bag ensure freshness shipping great value good tea]; Summary : [great];real summary :[great value] \n",
      "Review : [cancelled order cancelled without problem positive note]; Summary : [great good chips];real summary :[never arrived] \n",
      "Review : [use raw sugar seem little smaller normal crystals still good buy]; Summary : [great good];real summary :[good product] \n",
      "Review : [nice flavor bitter really like coffee searching coffee pleases whole familys tastes one]; Summary : [great];real summary :[excellent] \n",
      "Review : [good products fast shipping equals happy little pricey hand pick good unk cant find anywhere else def worth price]; Summary : [great];real summary :[delicious] \n",
      "Review : [real good unk love chips customers cant go wrong wit best]; Summary : [great good];real summary :[good buy] \n",
      "Review : [potatoes really good husband love way easy buying]; Summary : [great];real summary :[good] \n",
      "Review : [got kids christmas stocking stuffers love far delivery product came good condition timely terrific definitely good buy]; Summary : [great];real summary :[great] \n",
      "Review : [even vet approves little treats dogs favorite get small ones small dog]; Summary : [great good];real summary :[great product] \n",
      "Review : [love balance blend oils especially mix batters pancake cornbread cake etc good oil ingest]; Summary : [great great chips];real summary :[great cooking oil] \n",
      "Review : [great gift ages purchased giant canes recipients loved much kept would eat]; Summary : [great];real summary :[great] \n",
      "Review : [love love love 10 year old drink herbal tea quite often tasty]; Summary : [great];real summary :[delicious] \n",
      "Review : [great snack instead potato chips lower calories still delicious ordering]; Summary : [great];real summary :[pop unk] \n",
      "Review : [like strong coffee coffee rated found weak sickening taste]; Summary : [great];real summary :[disapointed] \n",
      "Review : [bitter tasting coffee even enhanced cream unk honey definately cup coffee oh say bitter]; Summary : [great];real summary :[bitter] \n",
      "Review : [might little spicy stuff rocks use 12 unk v8 milder version best bloody unk half mix half clamato]; Summary : [great];real summary :[best] \n",
      "Review : [healthy mixed llasa tibetan terrier adores healthy breath doesnt smell teeth good shape products great healthy product]; Summary : [great good];real summary :[dog loves] \n",
      "Review : [first time ive ever used agave nectar great keeps blood sugar stable great buy also]; Summary : [great good];real summary :[great buy] \n",
      "Review : [7 year old cocker spaniel loves food good needs lose pounds trick glad found amazon hard find elsewhere]; Summary : [great chips];real summary :[happy dog] \n",
      "Review : [love fast cups arrived always get k cups cant wait try something new]; Summary : [great good];real summary :[great deal] \n",
      "Review : [say wonderful highlight weekend unk use soda water liquid even better]; Summary : [great good];real summary :[waffles schmaffles] \n",
      "Review : [use buy sea salt instead regular salt like sea salt came promised good condition nothing else say]; Summary : [great good chips];real summary :[morton sea salt] \n"
     ]
    }
   ],
   "source": [
    "replies = []\n",
    "\n",
    "for ii, oi,ot in zip(input_.T, output,output_.T):\n",
    "    q = helpers.decode(sequence=ii, lookup=metadata['idx2w'], separator=' ')\n",
    "    decoded = helpers.decode(sequence=oi, lookup=metadata['idx2w'], separator=' ').split(' ')\n",
    "    rs = helpers.decode(sequence=ot, lookup=metadata['idx2w'], separator=' ').split(' ')\n",
    "    #if decoded.count('unk') == 0:\n",
    "     #   if decoded not in replies:\n",
    "    print('Review : [{0}]; Summary : [{1}];real summary :[{2}] '.format(q, ' '.join(decoded),' '.join(rs)))\n",
    "    #print \"Real Summary %s\",(helpers.decode(sequence=ot, lookup=metadata['idx2w'], separator=' ').split(' '))\n",
    "    replies.append(decoded)"
   ]
  },
  {
   "cell_type": "code",
   "execution_count": null,
   "metadata": {
    "collapsed": false
   },
   "outputs": [],
   "source": [
    "input_,output_ = val_batch_gen.next()\n",
    "output = model.predict(sess, input_)\n",
    "print(output.shape)"
   ]
  },
  {
   "cell_type": "code",
   "execution_count": null,
   "metadata": {
    "collapsed": false
   },
   "outputs": [],
   "source": [
    "import sys\n",
    "from nltk.corpus import stopwords\n",
    "sys.stdout.write(\"> \")\n",
    "sys.stdout.flush()\n",
    "sentence = \"This is great product\""
   ]
  },
  {
   "cell_type": "code",
   "execution_count": null,
   "metadata": {
    "collapsed": false
   },
   "outputs": [],
   "source": [
    "inputs = data_utils.ourmodel.data_util.get_tokens(sentence)\n",
    "fqtokens =  [w for w in inputs if not w in stopwords.words('english')]"
   ]
  },
  {
   "cell_type": "code",
   "execution_count": null,
   "metadata": {
    "collapsed": false
   },
   "outputs": [],
   "source": [
    "reload(data_utils.ourmodel.data_util)\n",
    "from data_utils.ourmodel.data_util import zero_pad_single\n",
    "processed_input = zero_pad_single(fqtokens,metadata['w2idx'])"
   ]
  },
  {
   "cell_type": "code",
   "execution_count": null,
   "metadata": {
    "collapsed": false
   },
   "outputs": [],
   "source": [
    "processed_input.shape"
   ]
  },
  {
   "cell_type": "code",
   "execution_count": null,
   "metadata": {
    "collapsed": true
   },
   "outputs": [],
   "source": []
  }
 ],
 "metadata": {
  "kernelspec": {
   "display_name": "Python 2",
   "language": "python",
   "name": "python2"
  },
  "language_info": {
   "codemirror_mode": {
    "name": "ipython",
    "version": 2
   },
   "file_extension": ".py",
   "mimetype": "text/x-python",
   "name": "python",
   "nbconvert_exporter": "python",
   "pygments_lexer": "ipython2",
   "version": "2.7.12"
  }
 },
 "nbformat": 4,
 "nbformat_minor": 0
}
