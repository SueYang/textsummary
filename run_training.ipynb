{
 "cells": [
  {
   "cell_type": "code",
   "execution_count": 1,
   "metadata": {
    "collapsed": false
   },
   "outputs": [],
   "source": [
    "import tensorflow as tf\n",
    "import numpy as np\n",
    "import models\n",
    "import helpers\n",
    "import data_utils"
   ]
  },
  {
   "cell_type": "code",
   "execution_count": 2,
   "metadata": {
    "collapsed": false
   },
   "outputs": [],
   "source": [
    "metadata, idx_q, idx_a = data_utils.ourmodel.data_util.load_data()\n",
    "(trainX, trainY), (testX, testY), (validX, validY) = helpers.split_dataset(idx_q, idx_a)"
   ]
  },
  {
   "cell_type": "code",
   "execution_count": 3,
   "metadata": {
    "collapsed": false
   },
   "outputs": [],
   "source": [
    "\n",
    "# parameters \n",
    "xseq_len = trainX.shape[-1]\n",
    "yseq_len = trainY.shape[-1]\n",
    "batch_size = 16\n",
    "xvocab_size = len(metadata['idx2w'])  \n",
    "yvocab_size = xvocab_size\n",
    "emb_dim = 30\n"
   ]
  },
  {
   "cell_type": "code",
   "execution_count": 4,
   "metadata": {
    "collapsed": false
   },
   "outputs": [
    {
     "data": {
      "text/plain": [
       "(11, 500)"
      ]
     },
     "execution_count": 4,
     "metadata": {},
     "output_type": "execute_result"
    }
   ],
   "source": [
    "idx_q.shape"
   ]
  },
  {
   "cell_type": "code",
   "execution_count": 5,
   "metadata": {
    "collapsed": false
   },
   "outputs": [
    {
     "name": "stdout",
     "output_type": "stream",
     "text": [
      "<log> Building Graph <log> Building Input variables of Graph <log> Cells <log> Building Actual model GradientDescentOptimizer.. </log>"
     ]
    }
   ],
   "source": [
    "from models import seq2seq_wrapper\n",
    "model = seq2seq_wrapper.Seq2Seq(xseq_len=xseq_len,\n",
    "                               yseq_len=yseq_len,\n",
    "                               xvocab_size=xvocab_size,\n",
    "                               yvocab_size=yvocab_size,\n",
    "                               ckpt_path='ckpt/checkpoint/',\n",
    "                               emb_dim=emb_dim,\n",
    "                               num_layers=3,\n",
    "                             epochs = 50,\n",
    "                                lr = 0.02,\n",
    "                                attention = True,\n",
    "                                celltype = 'GRU'\n",
    "                               )"
   ]
  },
  {
   "cell_type": "code",
   "execution_count": null,
   "metadata": {
    "collapsed": false
   },
   "outputs": [],
   "source": [
    "batch_size = 50\n",
    "\n",
    "val_batch_gen = helpers.rand_batch_gen(validX, validY, 10)\n",
    "train_batch_gen = helpers.rand_batch_gen(trainX, trainY, batch_size)"
   ]
  },
  {
   "cell_type": "code",
   "execution_count": null,
   "metadata": {
    "collapsed": false
   },
   "outputs": [
    {
     "name": "stdout",
     "output_type": "stream",
     "text": [
      "training started\n",
      "\n",
      "Model saved to disk at iteration #1\n",
      "val   loss : 2.378973\n",
      "\n",
      "Model saved to disk at iteration #2\n",
      "val   loss : 0.702355\n",
      "\n",
      "Model saved to disk at iteration #3\n",
      "val   loss : 0.748692\n",
      "\n",
      "Model saved to disk at iteration #4\n",
      "val   loss : 0.732520\n",
      "\n",
      "Model saved to disk at iteration #5\n",
      "val   loss : 0.740061\n"
     ]
    }
   ],
   "source": [
    "sess = model.train(train_batch_gen, val_batch_gen)"
   ]
  },
  {
   "cell_type": "code",
   "execution_count": null,
   "metadata": {
    "collapsed": false
   },
   "outputs": [],
   "source": [
    "\n",
    "sess = model.restore_last_session()"
   ]
  },
  {
   "cell_type": "code",
   "execution_count": null,
   "metadata": {
    "collapsed": false
   },
   "outputs": [],
   "source": [
    "input_,output_ = val_batch_gen.next()\n",
    "output = model.predict(sess, input_)\n",
    "print(output.shape)"
   ]
  },
  {
   "cell_type": "code",
   "execution_count": null,
   "metadata": {
    "collapsed": false
   },
   "outputs": [],
   "source": [
    "replies = []\n",
    "\n",
    "for ii, oi,ot in zip(input_.T, output,output_.T):\n",
    "    q = helpers.decode(sequence=ii, lookup=metadata['idx2w'], separator=' ')\n",
    "    decoded = helpers.decode(sequence=oi, lookup=metadata['idx2w'], separator=' ').split(' ')\n",
    "    rs = helpers.decode(sequence=ot, lookup=metadata['idx2w'], separator=' ').split(' ')\n",
    "    #if decoded.count('unk') == 0:\n",
    "     #   if decoded not in replies:\n",
    "    print('Review : [{0}]; Summary : [{1}];real summary :[{2}] '.format(q, ' '.join(decoded),' '.join(rs)))\n",
    "    #print \"Real Summary %s\",(helpers.decode(sequence=ot, lookup=metadata['idx2w'], separator=' ').split(' '))\n",
    "    replies.append(decoded)"
   ]
  },
  {
   "cell_type": "code",
   "execution_count": null,
   "metadata": {
    "collapsed": true
   },
   "outputs": [],
   "source": []
  },
  {
   "cell_type": "code",
   "execution_count": null,
   "metadata": {
    "collapsed": true
   },
   "outputs": [],
   "source": []
  }
 ],
 "metadata": {
  "kernelspec": {
   "display_name": "Python 2",
   "language": "python",
   "name": "python2"
  },
  "language_info": {
   "codemirror_mode": {
    "name": "ipython",
    "version": 2
   },
   "file_extension": ".py",
   "mimetype": "text/x-python",
   "name": "python",
   "nbconvert_exporter": "python",
   "pygments_lexer": "ipython2",
   "version": "2.7.12"
  }
 },
 "nbformat": 4,
 "nbformat_minor": 0
}
