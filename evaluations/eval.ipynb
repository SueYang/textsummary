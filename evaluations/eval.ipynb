{
 "cells": [
  {
   "cell_type": "code",
   "execution_count": null,
   "metadata": {
    "collapsed": true
   },
   "outputs": [],
   "source": [
    "#!/usr/bin/env python2\n",
    "# -*- coding: utf-8 -*-\n",
    "\"\"\"\n",
    "Created on Sat Mar 19 15:05:01 2017\n",
    "@author: sueyang\n",
    "\"\"\""
   ]
  },
  {
   "cell_type": "code",
   "execution_count": 8,
   "metadata": {
    "collapsed": false
   },
   "outputs": [],
   "source": [
    "import score\n"
   ]
  },
  {
   "cell_type": "code",
   "execution_count": 15,
   "metadata": {
    "collapsed": true
   },
   "outputs": [],
   "source": [
    "def eval(pred, ref,n = 1):\n",
    "    rouge_score = score.rouge_n(pred, ref, n)\n",
    "    bleu_score = score.bleu(pred, ref, n)\n",
    "    f1_score = score.f1(rouge_score, bleu_score)\n",
    "    \n",
    "    names = [\"rouge(recall)\", \"bleu(precision)\", \"f1(accuracy)\"]\n",
    "    scores = [rouge_score, bleu_score, f1_score]\n",
    "    \n",
    "    scores_dict = {}\n",
    "    for i in range(len(names)):\n",
    "        scores_dict[names[i]] = scores[i]\n",
    "    return scores_dict"
   ]
  },
  {
   "cell_type": "code",
   "execution_count": null,
   "metadata": {
    "collapsed": true
   },
   "outputs": [],
   "source": []
  },
  {
   "cell_type": "code",
   "execution_count": 16,
   "metadata": {
    "collapsed": false
   },
   "outputs": [
    {
     "name": "stdout",
     "output_type": "stream",
     "text": [
      "{'rouge(recall)': 0.3333333333333333, 'bleu(precision)': 0.5, 'f1(accuracy)': 0.4}\n"
     ]
    }
   ],
   "source": [
    "def test():\n",
    "    y_candidate = ['This', 'is', 'cat'] \n",
    "    y_reference = [['This', 'is', 'a', 'cat'], ['That', 'is', 'a', 'dog'],['these', 'are', 'two', 'cats']]\n",
    "    print eval(y_candidate, y_reference, 2)\n",
    "test()"
   ]
  },
  {
   "cell_type": "code",
   "execution_count": null,
   "metadata": {
    "collapsed": true
   },
   "outputs": [],
   "source": []
  },
  {
   "cell_type": "code",
   "execution_count": null,
   "metadata": {
    "collapsed": true
   },
   "outputs": [],
   "source": []
  }
 ],
 "metadata": {
  "anaconda-cloud": {},
  "kernelspec": {
   "display_name": "Python [conda env:python2]",
   "language": "python",
   "name": "conda-env-python2-py"
  },
  "language_info": {
   "codemirror_mode": {
    "name": "ipython",
    "version": 2
   },
   "file_extension": ".py",
   "mimetype": "text/x-python",
   "name": "python",
   "nbconvert_exporter": "python",
   "pygments_lexer": "ipython2",
   "version": "2.7.13"
  }
 },
 "nbformat": 4,
 "nbformat_minor": 1
}
