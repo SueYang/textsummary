{
 "cells": [
  {
   "cell_type": "code",
   "execution_count": 13,
   "metadata": {
    "collapsed": true
   },
   "outputs": [],
   "source": [
    "#!/usr/bin/env python2\n",
    "# -*- coding: utf-8 -*-\n",
    "\"\"\"\n",
    "Created on Sat Mar 18 15:06:40 2017\n",
    "\n",
    "@author: nileshbhoyar\n",
    "\"\"\"\n",
    "import numpy as np\n",
    "import pandas as pd\n",
    "import nltk\n",
    "import random\n",
    "import sys\n",
    "import itertools\n",
    "from collections import defaultdict\n",
    "import pickle\n",
    "\n",
    "EN_WHITELIST = '0123456789abcdefghijklmnopqrstuvwxyz ' # space is included in whitelist\n",
    "EN_BLACKLIST = '!\"#$%&\\'()*+,-./:;<=>?@[\\\\]^_`{|}~\\''\n",
    "MAX_REVIEWS = 10\n",
    "FILENAME = '/Users/nileshbhoyar/Documents/W266Project/data/finefoods.txt'\n",
    "\n",
    "limit = {\n",
    "        'maxreview' : 200,\n",
    "        'minreview' : 0,\n",
    "        'maxsummary' : 100,\n",
    "        'minsummary' : 3\n",
    "        }\n",
    "UNK = 'unk'\n",
    "VOCAB_SIZE = 20000000\n",
    "##\n",
    "def __crawl_review(raw_data_file):\n",
    "    \n",
    "        \"\"\"\n",
    "        Crawl review\n",
    "        :return: review [numpy array]\n",
    "        \"\"\"\n",
    "        review_list = []\n",
    "        print 'Crawling Reviews....'\n",
    "        num_lines = 0\n",
    "        with open(raw_data_file) as infile:\n",
    "            for line in infile:\n",
    "                if line.startswith('review/text'):\n",
    "                    if num_lines >= MAX_REVIEWS:\n",
    "                        break\n",
    "                    num_lines += 1\n",
    "                    _,review = line.split('/text: ')\n",
    "                    review_list.append(review)\n",
    "        return np.array(review_list)\n",
    "    \n",
    "    \n",
    "def __crawl_summary(raw_data_file):\n",
    "        \"\"\"\n",
    "        Crawl summary\n",
    "        :return: summary [numpy array]\n",
    "        \"\"\"\n",
    "        summary_list = []\n",
    "        print 'Crawling Summary....'\n",
    "        num_lines = 0\n",
    "        with open(raw_data_file) as infile:\n",
    "            for line in infile:\n",
    "                if line.startswith('review/summary'):\n",
    "                    if num_lines >= MAX_REVIEWS:\n",
    "                        break\n",
    "                    num_lines += 1\n",
    "                    _,summary = line.split('/summary: ')\n",
    "                    summary_list.append(summary)\n",
    "        return np.array(summary_list)\n",
    "    \n",
    "#tokenize sentenses here both review + summary\n",
    "def index_(tokenized_sentences, vocab_size):\n",
    "    # get frequency distribution\n",
    "        freq_dist = nltk.FreqDist(itertools.chain(*tokenized_sentences))\n",
    "        # get vocabulary of 'vocab_size' most used words\n",
    "        vocab = freq_dist.most_common(vocab_size)\n",
    "        # index2word\n",
    "        index2word = ['_'] + [UNK] + [ x[0] for x in vocab ]\n",
    "    # word2index\n",
    "        word2index = dict([(w,i) for i,w in enumerate(index2word)] )\n",
    "        return index2word, word2index, freq_dist\n",
    "\n",
    "def pad_seq(seq, lookup, maxlen):\n",
    "       indices = []\n",
    "       for word in seq:\n",
    "           if word in lookup:\n",
    "               indices.append(lookup[word])\n",
    "           else:\n",
    "               indices.append(lookup[UNK])\n",
    "       return indices + [0]*(maxlen - len(seq))\n",
    "#zero pad\n",
    "def zero_pad(qtokenized, atokenized, w2idx):\n",
    "    # num of rows\n",
    "        data_len = len(qtokenized)\n",
    "\n",
    "    # numpy arrays to store indices\n",
    "        idx_review = np.zeros([data_len, limit['maxreview']], dtype=np.int32) \n",
    "        idx_summary = np.zeros([data_len, limit['maxsummary']], dtype=np.int32)\n",
    "\n",
    "        for i in range(data_len):\n",
    "            q_indices = pad_seq(qtokenized[i], w2idx, limit['maxreview'])\n",
    "            a_indices = pad_seq(atokenized[i], w2idx, limit['maxsummary'])\n",
    "\n",
    "        #print(len(idx_q[i]), len(q_indices))\n",
    "        #print(len(idx_a[i]), len(a_indices))\n",
    "            idx_review[i] = np.array(q_indices)\n",
    "            idx_summary[i] = np.array(a_indices)\n",
    "\n",
    "        return idx_review, idx_summary\n",
    "\n"
   ]
  },
  {
   "cell_type": "code",
   "execution_count": 14,
   "metadata": {
    "collapsed": false
   },
   "outputs": [
    {
     "name": "stdout",
     "output_type": "stream",
     "text": [
      "Crawling Reviews....\n",
      "Crawling Summary....\n",
      "\n",
      " >> Index words\n",
      "\n",
      " >> Zero Padding\n",
      "[254 270 231  16 111 276 273  90  46  86  39 124 138  23 265  61   5   9\n",
      " 246 235 184  61   7  97 266  17  65   7  31  16 245   0   0   0   0   0\n",
      "   0   0   0   0   0   0   0   0   0   0   0   0   0   0   0   0   0   0\n",
      "   0   0   0   0   0   0   0   0   0   0   0   0   0   0   0   0   0   0\n",
      "   0   0   0   0   0   0   0   0   0   0   0   0   0   0   0   0   0   0\n",
      "   0   0   0   0   0   0   0   0   0   0   0   0   0   0   0   0   0   0\n",
      "   0   0   0   0   0   0   0   0   0   0   0   0   0   0   0   0   0   0\n",
      "   0   0   0   0   0   0   0   0   0   0   0   0   0   0   0   0   0   0\n",
      "   0   0   0   0   0   0   0   0   0   0   0   0   0   0   0   0   0   0\n",
      "   0   0   0   0   0   0   0   0   0   0   0   0   0   0   0   0   0   0\n",
      "   0   0   0   0   0   0   0   0   0   0   0   0   0   0   0   0   0   0\n",
      "   0   0]\n"
     ]
    }
   ],
   "source": [
    "df = pd.DataFrame()\n",
    "df['Review'] = __crawl_review(FILENAME)\n",
    "df['Summary'] =__crawl_summary(FILENAME)\n",
    "qtokenized = [ wordlist.split(' ') for wordlist in df['Review'] ]\n",
    "atokenized = [ wordlist.split(' ') for wordlist in df['Summary'] ]\n",
    "print('\\n >> Index words')\n",
    "idx2w, w2idx, freq_dist = index_( qtokenized + atokenized, vocab_size=VOCAB_SIZE)\n",
    "print('\\n >> Zero Padding')\n",
    "idx_q, idx_a = zero_pad(qtokenized, atokenized, w2idx)\n",
    "print idx_q[1]\n",
    "\n",
    "    "
   ]
  },
  {
   "cell_type": "code",
   "execution_count": 17,
   "metadata": {
    "collapsed": false
   },
   "outputs": [],
   "source": [
    "def split_dataset(x, y, ratio = [0.7, 0.15, 0.15] ):\n",
    "    # number of examples\n",
    "    data_len = len(x)\n",
    "    lens = [ int(data_len*item) for item in ratio ]\n",
    "\n",
    "    trainX, trainY = x[:lens[0]], y[:lens[0]]\n",
    "    testX, testY = x[lens[0]:lens[0]+lens[1]], y[lens[0]:lens[0]+lens[1]]\n",
    "    validX, validY = x[-lens[-1]:], y[-lens[-1]:]\n",
    "\n",
    "    return (trainX,trainY), (testX,testY), (validX,validY)"
   ]
  },
  {
   "cell_type": "code",
   "execution_count": 18,
   "metadata": {
    "collapsed": true
   },
   "outputs": [],
   "source": [
    "def load_data(PATH=''):\n",
    "    # read data control dictionaries\n",
    "    with open(PATH + '/Users/nileshbhoyar/Documents/W266Project/datasets/metadata.pkl', 'rb') as f:\n",
    "        metadata = pickle.load(f)\n",
    "    # read numpy arrays\n",
    "    idx_q = np.load(PATH + '/Users/nileshbhoyar/Documents/W266Project/datasets/idx_review.npy')\n",
    "    idx_a = np.load(PATH + '/Users/nileshbhoyar/Documents/W266Project/datasets/idx_summary.npy')\n",
    "    return metadata, idx_q, idx_a\n"
   ]
  },
  {
   "cell_type": "code",
   "execution_count": 21,
   "metadata": {
    "collapsed": false
   },
   "outputs": [],
   "source": [
    "metadata, idx_q, idx_a = load_data()\n",
    "(trainX, trainY), (testX, testY), (validX, validY) = split_dataset(idx_q, idx_a)"
   ]
  },
  {
   "cell_type": "code",
   "execution_count": 22,
   "metadata": {
    "collapsed": false
   },
   "outputs": [
    {
     "data": {
      "text/plain": [
       "(7, 200)"
      ]
     },
     "execution_count": 22,
     "metadata": {},
     "output_type": "execute_result"
    }
   ],
   "source": [
    "trainX.shape"
   ]
  },
  {
   "cell_type": "code",
   "execution_count": null,
   "metadata": {
    "collapsed": true
   },
   "outputs": [],
   "source": []
  }
 ],
 "metadata": {
  "kernelspec": {
   "display_name": "Python 2",
   "language": "python",
   "name": "python2"
  },
  "language_info": {
   "codemirror_mode": {
    "name": "ipython",
    "version": 2
   },
   "file_extension": ".py",
   "mimetype": "text/x-python",
   "name": "python",
   "nbconvert_exporter": "python",
   "pygments_lexer": "ipython2",
   "version": "2.7.12"
  }
 },
 "nbformat": 4,
 "nbformat_minor": 0
}
